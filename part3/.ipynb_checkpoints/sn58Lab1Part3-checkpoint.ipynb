{
 "cells": [
  {
   "cell_type": "markdown",
   "metadata": {},
   "source": [
    "Shreyas Narasimha"
   ]
  },
  {
   "cell_type": "markdown",
   "metadata": {},
   "source": [
    "Himanshu Garg"
   ]
  },
  {
   "cell_type": "markdown",
   "metadata": {},
   "source": [
    "# URL for the Twitter and CDC comparison Shiny APP"
   ]
  },
  {
   "cell_type": "markdown",
   "metadata": {},
   "source": [
    "https://shadyshrew721.shinyapps.io/CDCTwitterFluFinder/"
   ]
  },
  {
   "cell_type": "markdown",
   "metadata": {},
   "source": [
    "The code for creating the above app has been included in the part3.zip file"
   ]
  },
  {
   "cell_type": "markdown",
   "metadata": {},
   "source": [
    "# PART 3 - TWITTER API"
   ]
  },
  {
   "cell_type": "markdown",
   "metadata": {},
   "source": [
    "Here we load all the packages that are required by our program."
   ]
  },
  {
   "cell_type": "code",
   "execution_count": 6,
   "metadata": {},
   "outputs": [
    {
     "name": "stderr",
     "output_type": "stream",
     "text": [
      "Warning message:\n",
      "\"package 'rtweet' was built under R version 3.5.2\"Warning message:\n",
      "\"package 'ggplot2' was built under R version 3.5.2\"Warning message:\n",
      "\"package 'maps' was built under R version 3.5.2\"Warning message:\n",
      "\"package 'ggmap' was built under R version 3.5.2\"Google's Terms of Service: https://cloud.google.com/maps-platform/terms/.\n",
      "Please cite ggmap if you use it! See citation(\"ggmap\") for details.\n",
      "Warning message:\n",
      "\"package 'maptools' was built under R version 3.5.2\"Loading required package: sp\n",
      "Warning message:\n",
      "\"package 'sp' was built under R version 3.5.2\"Checking rgeos availability: FALSE\n",
      " \tNote: when rgeos is not available, polygon geometry \tcomputations in maptools depend on gpclib,\n",
      " \twhich has a restricted licence. It is disabled by default;\n",
      " \tto enable gpclib, type gpclibPermit()\n",
      "Warning message:\n",
      "\"package 'revgeo' was built under R version 3.5.2\"Warning message:\n",
      "\"package 'mapproj' was built under R version 3.5.2\"Warning message:\n",
      "\"package 'fiftystater' was built under R version 3.5.2\"Warning message:\n",
      "\"package 'jsonlite' was built under R version 3.5.2\"\n",
      "Attaching package: 'jsonlite'\n",
      "\n",
      "The following object is masked from 'package:rtweet':\n",
      "\n",
      "    flatten\n",
      "\n"
     ]
    }
   ],
   "source": [
    "# install.packages(\"rtweet\")\n",
    "# install.packages(\"mapproj\")\n",
    "# install.packages(\"ggplot2\")\n",
    "# install.packages(\"ggmap\")\n",
    "# install.packages(\"maptools\")\n",
    "# install.packages(\"revgeo\")\n",
    "# install.packages(\"devtools\")\n",
    "# devtools::install_github(\"wmurphyrd/fiftystater\")\n",
    "library(rtweet)\n",
    "library(ggplot2)\n",
    "library(maps)\n",
    "library(ggmap)\n",
    "library(maptools)\n",
    "library(revgeo)\n",
    "library(mapproj)\n",
    "library(fiftystater)\n",
    "library(jsonlite)\n",
    "register_google(key = \"ENTER_GOOGLE_GEOCODE_API KEY\")"
   ]
  },
  {
   "cell_type": "markdown",
   "metadata": {},
   "source": [
    "# Collecting Initial Data"
   ]
  },
  {
   "cell_type": "markdown",
   "metadata": {},
   "source": [
    "In this section we define our search paramters and keywords, and using rtweet.info package we make the query to retrieve 1,00,000 records but are able to retrieve 72,611 records. We save these tweets to a file called flufulldata.csv that contains all the information and another file flufulldata_lesscol.csv that contains specific columns that we need for further processing.\n",
    "\n",
    "The search keywords are taken related to the words flu and influenza as well how a person might tweet if he has the symptoms for the same, taking some common sentenced like \"i have cough\" or just \"fever\"."
   ]
  },
  {
   "cell_type": "markdown",
   "metadata": {},
   "source": [
    "# Keywords Used"
   ]
  },
  {
   "cell_type": "markdown",
   "metadata": {},
   "source": [
    "flu<br>\n",
    "influenza<br>\n",
    "pandemic<br>\n",
    "fever<br>\n",
    "headache<br>\n",
    "cough<br>\n",
    "sore throat<br>\n",
    "body pain <br>\n",
    "muscle ache <br>\n",
    "weakness <br>\n",
    "runny nose<br>\n",
    "malaise<br>\n",
    "myalgia<br>\n",
    "feverish<br>\n",
    "respiratory illness<br>\n",
    "Antigen<br>\n",
    "Antiviral<br>\n",
    "influenza virus<br>\n",
    "Conjunctivitis<br>\n",
    "Hemagglutinin<br>\n",
    "Zanamivir<br>\n",
    "flu outbreak<br>\n",
    "influenza outbreak<br>\n",
    "flu epidemic<br>\n",
    "Pneumonia<br>\n",
    "HashTag#flu<br>\n",
    "HashTag#fluoutbreak<br>\n",
    "HashTag#fluepidemic<br>\n",
    "HashTag#influenza<br>\n",
    "HashTag#influenzaoutbreak<br>\n",
    "HashTag#influenzapandemic<br>\n",
    "HashTag#runningnose<br>\n",
    "HashTag#downwithflu<br>\n",
    "HashTag#downwithinfluenza<br>\n",
    "HashTag#downwithrunningnose<br>\n",
    "HashTag#diagnosedwithflu<br>\n",
    "HashTag#diagnosedwithinfluenza<br>\n",
    "HashTag#diagnosedwithrunningnose<br>\n",
    "HashTag#haveflu<br>\n",
    "HashTag#haveinfluenza<br>\n",
    "HashTag#haverunningnose<br>\n",
    "HashTag#fluseason<br>\n",
    "HashTag#fluseasonishere<br>\n",
    "flu season<br>"
   ]
  },
  {
   "cell_type": "code",
   "execution_count": null,
   "metadata": {},
   "outputs": [],
   "source": [
    "#---------------------Collecting the twitter data------------------------------------\n",
    "\n",
    "create_token(\n",
    "  app = \"my_twitter_research_app\",\n",
    "  consumer_key = \"\",\n",
    "  consumer_secret = \"\",\n",
    "  access_token = \"\",\n",
    "  access_secret = \"\")\n",
    "\n",
    "\n",
    "flufulldata <- search_tweets2(\n",
    "  c(\"\\\"flu\\\"\",\n",
    "    \"\\\"influenza\\\"\",\n",
    "    \"\\\"influenza\\\" AND \\\"pandemic\\\"\",\n",
    "    \"\\\"fever\\\"\",\n",
    "    \"\\\"fever\\\" AND \\\"headache\\\"\",\n",
    "    \"\\\"fever\\\" AND \\\"cough\\\"\",\n",
    "    \"\\\"fever\\\" AND \\\"sore throat\\\"\",\n",
    "    \"\\\"headache\\\" AND \\\"sore throat\\\"\",\n",
    "    \"\\\"headache\\\" AND \\\"cough\\\"\",\n",
    "    \"\\\"body pain\\\" AND \\\"cough\\\"\",\n",
    "    \"\\\"muscle ache\\\" AND \\\"cough\\\"\",\n",
    "    \"\\\"weakness\\\" AND \\\"runny nose\\\"\",\n",
    "    \"\\\"malaise\\\"\",\n",
    "    \"\\\"myalgia\\\"\",\n",
    "    \"\\\"feverish\\\"\",\n",
    "    \"\\\"respiratory\\\" AND \\\"illness\\\"\",\n",
    "    \"\\\"Antigen\\\"\",\n",
    "    \"\\\"Antiviral\\\"\",\n",
    "    \"\\\"influenza virus\\\"\",\n",
    "    \"\\\"influenza\\\" AND \\\"virus\\\"\",\n",
    "    \"\\\"Conjunctivitis\\\"\",\n",
    "    \"\\\"Hemagglutinin\\\"\",\n",
    "    \"\\\"Zanamivir\\\"\",\n",
    "    \"\\\"flu outbreak\\\"\",\n",
    "    \"\\\"flu\\\" AND \\\"outbreak\\\"\",\n",
    "    \"\\\"influenza outbreak\\\"\",\n",
    "    \"\\\"influenza\\\" AND \\\"outbreak\\\"\",\n",
    "    \"\\\"epidemic\\\" AND \\\"influenza\\\"\",\n",
    "    \"\\\"flu\\\" AND \\\"epidemic\\\"\",\n",
    "    \"\\\"runny nose\\\"\",\n",
    "    \"\\\"runny nose\\\" AND \\\"headache\\\"\",\n",
    "    \"\\\"Pneumonia\\\"\",\n",
    "    \"\\\"#flu\\\"\",\n",
    "    \"\\\"#fluoutbreak\\\"\",\n",
    "    \"\\\"#fluepidemic\\\"\",\n",
    "    \"\\\"#influenza\\\"\",\n",
    "    \"\\\"#influenzaoutbreak\\\"\",\n",
    "    \"\\\"#influenzapandemic\\\"\",\n",
    "    \"\\\"#runningnose\\\"\",\n",
    "    \"\\\"#downwithflu\\\"\",\n",
    "    \"\\\"#downwithinfluenza\\\"\",\n",
    "    \"\\\"#downwithrunningnose\\\"\",\n",
    "    \"\\\"#diagnosedwithflu\\\"\",\n",
    "    \"\\\"#diagnosedwithinfluenza\\\"\",\n",
    "    \"\\\"#diagnosedwithrunningnose\\\"\",\n",
    "    \"\\\"#haveflu\\\"\",\n",
    "    \"\\\"#haveinfluenza\\\"\",\n",
    "    \"\\\"#haverunningnose\\\"\",\n",
    "    \"\\\"#fluseason\\\"\",\n",
    "    \"\\\"#fluseasonishere\\\"\",\n",
    "    \"\\\"have flu\\\"\",\n",
    "    \"\\\"have cough\\\"\",\n",
    "    \"\\\"have influenza\\\"\",\n",
    "    \"\\\"down with influenza\\\"\",\n",
    "    \"\\\"down with cough\\\"\",\n",
    "    \"\\\"down with flu\\\"\",\n",
    "    \"\\\"down with running nose\\\"\",\n",
    "    \"\\\"diagnosed with influenza\\\"\",\n",
    "    \"\\\"diagnosed with cough\\\"\",\n",
    "    \"\\\"diagnosed with flu\\\"\",\n",
    "    \"\\\"got flu\\\"\",\n",
    "    \"\\\"got influenza\\\"\",\n",
    "    \"\\\"got cough\\\"\",\n",
    "    \"\\\"got running nose\\\"\",\n",
    "    \"\\\"tested for influenza\\\"\",\n",
    "    \"\\\"tested for flu\\\"\",\n",
    "    \"\\\"caught flu\\\"\",\n",
    "    \"\\\"caught influenza\\\"\",\n",
    "    \"\\\"caught cough\\\"\",\n",
    "    \"\\\"caught running nose\\\"\",\n",
    "    \"\\\"running nose\\\"\",\n",
    "    \"\\\"positive for flu\\\"\",\n",
    "    \"\\\"coughing\\\"\",\n",
    "    \"\\\"sore throat\\\"\",\n",
    "    \"\\\"circulating flu in\\\"\",\n",
    "    \"\\\"circulating flu around\\\"\",\n",
    "    \"\\\"positive for influenza\\\"\",\n",
    "    \"\\\"have symptoms of influenza\\\"\",\n",
    "    \"\\\"have symptoms of flu\\\"\",\n",
    "    \"\\\"flu around me\\\"\",\n",
    "    \"\\\"influenza around me\\\"\",\n",
    "    \"\\\"cough around me\\\"\",\n",
    "    \"\\\"running nose around me\\\"\",\n",
    "    \"\\\"increase of flu in\\\"\",\n",
    "    \"\\\"increase of flu around\\\"\",\n",
    "    \"\\\"increase of influenza in\\\"\",\n",
    "    \"\\\"increase of influenza around\\\"\",\n",
    "    \"\\\"suffering from flu\\\"\",\n",
    "    \"\\\"suffering from influenza\\\"\",\n",
    "    \"\\\"suffering from running nose\\\"\",\n",
    "    \"\\\"flu season is here\\\"\",\n",
    "    \"\\\"flu season\\\"\"),\n",
    "  n = 100000,\n",
    "  geocode = lookup_coords(\"usa\"),\n",
    "  include_rts = FALSE,\n",
    "  retryonratelimit = TRUE\n",
    ")\n",
    "\n",
    "## create lat/lng variables using all available tweet and profile geo-location data\n",
    "flufulldata <- lat_lng(flufulldata)\n",
    "#write the data collected to csv file\n",
    "write_as_csv(flufulldata, paste(\".\\\\data\\\\flufulldata\"), prepend_ids = TRUE, na = \"\",fileEncoding = \"UTF-8\")\n",
    "write_as_csv(flufulldata[,c(\"user_id\",\"status_id\",\"created_at\",\"screen_name\",\"name\",\"query\",\"text\",\"location\",\"lat\",\"lng\")], paste(\".\\\\data\\\\flufulldata_lesscol\"), prepend_ids = TRUE, na = \"\",\n",
    "             fileEncoding = \"UTF-8\")"
   ]
  },
  {
   "cell_type": "markdown",
   "metadata": {},
   "source": [
    "# Finding the states from the Longitude and Latitudes and saving"
   ]
  },
  {
   "cell_type": "raw",
   "metadata": {},
   "source": [
    "Here we read the data from the csv created in the above step and remove the rows where we don't have any latitude and longitude information. Then we filter the data first time to find the unique data (It might till contain duplicates since one of the column values regarding which query this data came, might be different). The remaining duplicates are filtered later on.\n",
    "\n",
    "A new column region is made in the dataframe where the states that are found using the revgeo package are filled. This is then saved as a csv called \"dataWithRegion.csv\" to be used later on."
   ]
  },
  {
   "cell_type": "code",
   "execution_count": null,
   "metadata": {},
   "outputs": [],
   "source": [
    "############################# filtering data and finding locations #############################################\n",
    "\n",
    "\n",
    "#GETTING THE NEW DATA AND FINDING THE STATES AND SAVING IN FILE\n",
    "flu_full_data2 <- read.csv(\"data\\\\flufulldata_lesscol.csv\", stringsAsFactors = FALSE)\n",
    "flu_full_data2 <- subset(flu_full_data2, !is.na(lng) | !is.na(lat))\n",
    "flu_full_data2 <- unique(flu_full_data2)\n",
    "\n",
    "# getting the location data from revgeo and saving in file\n",
    "flucoords <- data.frame(flu_full_data2[c(\"lat\",\"lng\")])\n",
    "flustates <- revgeo(flucoords$lng, flucoords$lat,output = \"frame\",item = \"state\")\n",
    "flu_full_data2$region <- tolower(flustates$state)\n",
    "write_as_csv(flu_full_data2[,c(\"user_id\",\"screen_name\",\"name\",\"query\",\"text\",\"location\",\"lat\",\"lng\",\"region\")], paste(\".\\\\data\\\\dataWithRegion\"), prepend_ids = TRUE, na = \"\",\n",
    "             fileEncoding = \"UTF-8\")\n"
   ]
  },
  {
   "cell_type": "markdown",
   "metadata": {},
   "source": [
    "After the above step it might still be the case that some of the states are not found. To rectify that we qeury both google APIs : geocode() and revgeocode() to get information which is as accurate as possible. This data is then saved as a csv called \"dataWithRegion_Better.csv\". This is the final csv that we use for plotting our heat maps."
   ]
  },
  {
   "cell_type": "code",
   "execution_count": null,
   "metadata": {},
   "outputs": [],
   "source": [
    "#READING THE OLD AND NEW DATA WITH SAVED LONG LAT VALUES\n",
    "flu_full_data2_region <- read.csv(\"data\\\\dataWithRegion.csv\", stringsAsFactors = FALSE)\n",
    "\n",
    "dataWithValidGeoLoc <- flu_full_data2_region\n",
    "\n",
    "############################# Trying to find missing locations again #########################\n",
    "\n",
    "#reading the saved data from revgeo and querying dsk and goodle to find missing states and saving the final data\n",
    "#dataWithValidGeoLoc <- read.csv(\"data\\\\dataWithRegion.csv\", stringsAsFactors = FALSE)\n",
    "\n",
    "for(i in 1:nrow(dataWithValidGeoLoc))\n",
    "{\n",
    "  if(dataWithValidGeoLoc$region[i] == 'state not found'){\n",
    "    if(!is.na(dataWithValidGeoLoc$location[i]) & length(dataWithValidGeoLoc$location[i])>0){\n",
    "      res <- geocode(dataWithValidGeoLoc$location[i],output=\"all\")\n",
    "      if(!is.na(res)){\n",
    "        if(any(names(res) == 'status') & res['status']==\"OK\"){\n",
    "          fls <- NA\n",
    "          for(ls in res['results'][[1]]){\n",
    "            t<-ls['types'][[1]]\n",
    "            if(t[[1]] == 'administrative_area_level_1'){\n",
    "              fls<-ls\n",
    "              break\n",
    "            }\n",
    "          }\n",
    "          if(!is.na(fls)){\n",
    "            tmm<-fls['address_components'][[1]][[1]]['long_name']\n",
    "            if(!is.na(tmm) & length(tmm)>0){\n",
    "              dataWithValidGeoLoc$region[i] <- tolower(tmm)\n",
    "            }\n",
    "          }\n",
    "        }\n",
    "      }\n",
    "    }\n",
    "    \n",
    "    if(dataWithValidGeoLoc$region[i] == 'state not found' | length(dataWithValidGeoLoc$region[i])==0){\n",
    "      res <- revgeocode(c(dataWithValidGeoLoc$lng[i],dataWithValidGeoLoc$lat[i]),output=\"all\")\n",
    "      if(!is.na(res)){\n",
    "        if(any(names(res) == 'status') & res['status']==\"OK\"){\n",
    "          fls <- NA\n",
    "          for(ls in res['results'][[1]]){\n",
    "            t<-ls['types'][[1]]\n",
    "            if(t[[1]] == 'administrative_area_level_1'){\n",
    "              fls<-ls\n",
    "              break\n",
    "            }\n",
    "          }\n",
    "          if(!is.na(fls)){\n",
    "            tmm<-fls['address_components'][[1]][[1]]['long_name']\n",
    "            if(!is.na(tmm) & length(tmm)>0){\n",
    "              dataWithValidGeoLoc$region[i] <- tolower(tmm)\n",
    "            }\n",
    "          }\n",
    "        }\n",
    "      }\n",
    "    }\n",
    "    \n",
    "  }\n",
    "}\n",
    "write_as_csv(dataWithValidGeoLoc[,c(\"user_id\",\"screen_name\",\"name\",\"query\",\"text\",\"location\",\"lat\",\"lng\",\"region\")], paste(\".\\\\data\\\\dataWithRegion_Better\"), prepend_ids = TRUE, na = \"\",\n",
    "             fileEncoding = \"UTF-8\")\n"
   ]
  },
  {
   "cell_type": "markdown",
   "metadata": {},
   "source": [
    "# Final filtering of Data"
   ]
  },
  {
   "cell_type": "markdown",
   "metadata": {},
   "source": [
    "The data from the above saved csv is read and is filtered for the data which still soesn't have any state information. Also the data is processed to remove duplicated based on two columns : \"text\" which contains the actual tweet and \"name\" of the person who tweeted."
   ]
  },
  {
   "cell_type": "code",
   "execution_count": null,
   "metadata": {},
   "outputs": [],
   "source": [
    "loading the final data and working on it:"
   ]
  },
  {
   "cell_type": "code",
   "execution_count": 7,
   "metadata": {},
   "outputs": [],
   "source": [
    "\n",
    "dataWithValidGeoLoc <- read.csv(\"data\\\\dataWithRegion_Better.csv\", stringsAsFactors = FALSE)\n",
    "dataWithValidGeoLoc<-dataWithValidGeoLoc[!(dataWithValidGeoLoc$region==\"state not found\"),]\n",
    "\n",
    "dataWithValidGeoLoc <- dataWithValidGeoLoc[!duplicated(dataWithValidGeoLoc[,c('text','name')]),]\n"
   ]
  },
  {
   "cell_type": "markdown",
   "metadata": {},
   "source": [
    "# Heat Maps of Twitter Data"
   ]
  },
  {
   "cell_type": "markdown",
   "metadata": {},
   "source": [
    "STEPS: \n",
    "\n",
    "1. First a data frame is created to get count of each state which has an occurance of tweet using the table function.\n",
    "2. Then the columns are renamed to \"region\" and \"count\" which will help in merging with the map data.\n",
    "3. The state ids are found from the map (corresponding to 50 states).\n",
    "4. These are merged with the state counts data from step 1.\n",
    "5. This gives us the final mapping of the valid states and the number of tweets occured in each of them.\n",
    "6. The counts of the states that don't have any value (NA) are set to 0.\n",
    "7. The fifty_states map is used from the fiftystater package shows 50 USA states including Alaska and Hawaii.\n",
    "8. The map is merged with the above created dataframe on the column region to map the counts of each state to the state in the fifty_states map.\n",
    "9. Finally, we use the ggplot function to plot the map using the latitude and longitude aesthetics. The scale_fill_gradientn function is used to create a gradient of colors to represent the different heat levels. The breaks are given at different levels to represent the Flu level."
   ]
  },
  {
   "cell_type": "markdown",
   "metadata": {},
   "source": [
    "# Twitter Heat Map using All Keywords"
   ]
  },
  {
   "cell_type": "code",
   "execution_count": 89,
   "metadata": {},
   "outputs": [
    {
     "data": {},
     "metadata": {},
     "output_type": "display_data"
    },
    {
     "data": {
      "image/png": "[encoded data removed]",
      "text/plain": [
       "plot without title"
      ]
     },
     "metadata": {},
     "output_type": "display_data"
    }
   ],
   "source": [
    "dataWithValidGeoLoc <- read.csv(\"data\\\\dataWithRegion_Better.csv\", stringsAsFactors = FALSE)\n",
    "dataWithValidGeoLoc<-dataWithValidGeoLoc[!(dataWithValidGeoLoc$region==\"state not found\"),]\n",
    "\n",
    "dataWithValidGeoLoc <- dataWithValidGeoLoc[!duplicated(dataWithValidGeoLoc[,c('text','name')]),]\n",
    "\n",
    "locCountTable <- table(dataWithValidGeoLoc$region)\n",
    "locCountTable <- data.frame(locCountTable)\n",
    "colnames(locCountTable) <- c(\"region\", \"count\")\n",
    "stateids <- data.frame(\"region\"=state.name)\n",
    "stateids$region <- tolower(stateids$region)\n",
    "locCountTable <- merge(stateids,locCountTable, by=\"region\",all.x=T)\n",
    "locCountTable[is.na(locCountTable)] <- 0\n",
    "maxcnt <- max(locCountTable$count)\n",
    "mincnt <- min(locCountTable$count)\n",
    "rangebreak <- (maxcnt-mincnt)/10\n",
    "\n",
    "data(\"fifty_states\")\n",
    "fifty_states$region <- fifty_states$id\n",
    "mapPlusData <- merge(fifty_states,locCountTable, by=\"region\", all.heat=T)\n",
    "#mapPlusData <- merge(usa,locCountTable, by=\"region\", all.locCountTable=T)\n",
    "mapPlusData <- mapPlusData[order(mapPlusData$order),]\n",
    "\n",
    "allkeyheatmap <- ggplot(mapPlusData, aes(x=long,y=lat,group=group))+labs(title=\"                                        2019 Flu Data from Twitter (All Keywords)\")+\n",
    "  geom_polygon(aes(fill=count))+\n",
    "  geom_path()+xlab(\"Longitude\")+ ylab(\"Latitude\")+\n",
    "  scale_fill_gradientn(colours=rev(c(\"red3\",\"red2\",\"firebrick1\",\"indianred1\",\"orange1\",\"orange2\",\"yellow1\",\"yellow2\",\"chartreuse\",\"chartreuse2\",\"chartreuse4\")),na.value=\"grey90\",name=\"Activity Level\",\n",
    "                       breaks=seq(1,maxcnt,by=rangebreak),\n",
    "                       labels=c(paste(\"Minimal (\",mincnt,\")\",sep=\"\"),\"Minimal\",\"Minimal\",\"Low\",\"Low\",\"Moderate\",\"Moderate\",\"High\",\"High\",paste(\"High (\",maxcnt,\")\",sep=\"\")))+ \n",
    "  theme_bw() + theme(plot.title = element_text(size=14, face=\"bold\"))+\n",
    "  theme(panel.border = element_blank(), panel.grid.major = element_blank(),\n",
    "        panel.grid.minor = element_blank(), axis.line = element_line(colour = \"black\"),  legend.text = element_text(size = 10) ) + theme_void()+\n",
    "  annotate(\"text\", label = \"Alaska\", x = -120, y = 32, size = 4, colour = \"Black\")+\n",
    "  annotate(\"text\", label = \"Hawaii\", x = -111, y = 30, size = 4, colour = \"Black\")+\n",
    "  coord_map()+ guides(fill = guide_legend(title =\"         Flu\\nActivity Count\")) +\n",
    "  theme(\n",
    "    legend.key.size = grid::unit(1,\"lines\"),\n",
    "    legend.title = element_text(size = 11, face = \"bold\"),\n",
    "    legend.text = element_text(size = 11)\n",
    "  )\n",
    "\n",
    "allkeyheatmap"
   ]
  },
  {
   "cell_type": "markdown",
   "metadata": {},
   "source": [
    "![alt text](heatmap_cdc.png \"CDC\")"
   ]
  },
  {
   "cell_type": "markdown",
   "metadata": {},
   "source": [
    "# CDC and Twitter Comparison using all keywords"
   ]
  },
  {
   "cell_type": "markdown",
   "metadata": {},
   "source": [
    "We now compare the the heat map generated by collecting and plotting the frequency of tweets filtered using a number of flu related keywords and the heat map generated by CDC's official data for the Week 4 of Jan 2019. It can be seen at a glance that the data appears different.\n",
    "\n",
    "CDC's heat map is much more localized to Southern and Central regions of North America with certain flu hotspots in the eastern region as well.\n",
    "Data collected from Twitter suggests that the flu is localized in Texas and California with a few eastern states having low activity.\n",
    "\n",
    "The high activity in California may be due to excessive tweets from California which may contain most of the keywords used.\n",
    "\n",
    "Alaska shows no activity in CDC's map as compared to the high activity shown in the Twitter data heat map. This is possibly due to lack of twitter data from Alaska."
   ]
  },
  {
   "cell_type": "markdown",
   "metadata": {},
   "source": [
    "# Heat Map using \"Flu\" and \"Coughing\" Keywords"
   ]
  },
  {
   "cell_type": "markdown",
   "metadata": {},
   "source": [
    "Our twitter data contains a column called \"query\" which tells from which keywords this tweet was obtained. Using this column, the twitter data is filter to obtain tweets based on a subset of all keywords like \"fever and cough\",\"influenza\" and \"coughing\". Here data is filtered to get the tweets based on two keywords only: \"flu\" and \"coughing\" and the heat map created.\n",
    "\n",
    "Then the same steps mentioned above to find the counts and merging with the US state map are followed and the final heatmap plotted using ggmap library. "
   ]
  },
  {
   "cell_type": "code",
   "execution_count": 90,
   "metadata": {},
   "outputs": [
    {
     "data": {},
     "metadata": {},
     "output_type": "display_data"
    },
    {
     "data": {
      "image/png": "[encoded data removed]",
      "text/plain": [
       "plot without title"
      ]
     },
     "metadata": {},
     "output_type": "display_data"
    }
   ],
   "source": [
    "############################# Heatmap using flu and coughing keywords from the data #########################\n",
    "dataWithValidGeoLoc <- read.csv(\"data\\\\dataWithRegion_Better.csv\", stringsAsFactors = FALSE)\n",
    "dataWithValidGeoLoc<-dataWithValidGeoLoc[!(dataWithValidGeoLoc$region==\"state not found\"),]\n",
    "\n",
    "dataWithValidGeoLoc <- dataWithValidGeoLoc[!duplicated(dataWithValidGeoLoc[,c('text','name')]),]\n",
    "\n",
    "data_two_keywords <- subset(dataWithValidGeoLoc, dataWithValidGeoLoc$query==\"\\\"flu\\\"\" |\n",
    "                                 dataWithValidGeoLoc$query==\"\\\"coughing\\\"\")\n",
    "\n",
    "\n",
    "locCountTable <- table(data_two_keywords$region)\n",
    "locCountTable <- data.frame(locCountTable)\n",
    "colnames(locCountTable) <- c(\"region\", \"count\")\n",
    "stateids <- data.frame(\"region\"=state.name)\n",
    "stateids$region <- tolower(stateids$region)\n",
    "locCountTable <- merge(stateids,locCountTable, by=\"region\",all.x=T)\n",
    "locCountTable[is.na(locCountTable)] <- 0\n",
    "maxcnt <- max(locCountTable$count)\n",
    "mincnt <- min(locCountTable$count)\n",
    "rangebreak <- (maxcnt-mincnt)/10\n",
    "\n",
    "data(\"fifty_states\")\n",
    "fifty_states$region <- fifty_states$id\n",
    "mapPlusData <- merge(fifty_states,locCountTable, by=\"region\", all.heat=T)\n",
    "#mapPlusData <- merge(usa,locCountTable, by=\"region\", all.locCountTable=T)\n",
    "mapPlusData <- mapPlusData[order(mapPlusData$order),]\n",
    "\n",
    "twokeyheatmap <- ggplot(mapPlusData, aes(x=long,y=lat,group=group))+labs(title=\"                                 2019 Flu Data from Twitter (Flu and Coughing Keywords)\")+\n",
    "  geom_polygon(aes(fill=count))+\n",
    "  geom_path()+xlab(\"Longitude\")+ ylab(\"Latitude\")+\n",
    "  scale_fill_gradientn(colours=rev(c(\"red3\",\"red2\",\"firebrick1\",\"indianred1\",\"orange1\",\"orange2\",\"yellow1\",\"yellow2\",\"chartreuse\",\"chartreuse2\",\"chartreuse4\")),na.value=\"grey90\",name=\"Activity Level\",\n",
    "                       breaks=seq(1,maxcnt,by=rangebreak),\n",
    "                       labels=c(paste(\"Minimal (\",mincnt,\")\",sep=\"\"),\"Minimal\",\"Minimal\",\"Low\",\"Low\",\"Moderate\",\"Moderate\",\"High\",\"High\",paste(\"High (\",maxcnt,\")\",sep=\"\")))+ \n",
    "  theme_bw() + theme(plot.title = element_text(size=14, face=\"bold\"))+\n",
    "  theme(panel.border = element_blank(), panel.grid.major = element_blank(),\n",
    "        panel.grid.minor = element_blank(), axis.line = element_line(colour = \"black\"),  legend.text = element_text(size = 10) ) + theme_void()+\n",
    "  annotate(\"text\", label = \"Alaska\", x = -120, y = 32, size = 4, colour = \"Black\")+\n",
    "  annotate(\"text\", label = \"Hawaii\", x = -111, y = 30, size = 4, colour = \"Black\")+\n",
    "  coord_map()+ guides(fill = guide_legend(title =\"         Flu\\nActivity Count\")) +\n",
    "  theme(\n",
    "    legend.key.size = grid::unit(1,\"lines\"),\n",
    "    legend.title = element_text(size = 11, face = \"bold\"),\n",
    "    legend.text = element_text(size = 11)\n",
    "  )\n",
    "twokeyheatmap"
   ]
  },
  {
   "cell_type": "markdown",
   "metadata": {},
   "source": [
    "![alt text](heatmap_cdc.png \"CDC\")"
   ]
  },
  {
   "cell_type": "markdown",
   "metadata": {},
   "source": [
    "# CDC and Twitter Comparison using Two keywords"
   ]
  },
  {
   "cell_type": "markdown",
   "metadata": {},
   "source": [
    "Now, we do a comparison of CDC's heat map and a heatmap of twitter data filtered using the keywords \"flu\" and \"coughing\".\n",
    "\n",
    "Similar to the previous comparison, California and Texas are still the flu hotspots in the twitter data map.\n",
    "\n",
    "The twitter data heat map shows slightly higher activity in the eastern regions as compared to the heatmap created using all the flu related keywords.\n",
    "\n",
    "Twitter data related to the keywords is a very small amount compared to the huge amount of data that the CDC has used to create the heatmap.\n",
    "\n",
    "The twitter data is also quite unreliable as compared to the official CDC sources."
   ]
  },
  {
   "cell_type": "markdown",
   "metadata": {},
   "source": [
    "# Heat Map using Subset of Keywords"
   ]
  },
  {
   "cell_type": "markdown",
   "metadata": {},
   "source": [
    "Our twitter data contains a column called \"query\" which tells from which keywords this tweet was obtained. Using this column, the twitter data is filter to obtain tweets based on a subset of all keywords like \"fever and cough\",\"influenza\" and \"coughing\".\n",
    "\n",
    "Then the same steps mentioned above to find the counts and merging with the US state map are followed and the final heatmap plotted using ggmap library. "
   ]
  },
  {
   "cell_type": "code",
   "execution_count": 91,
   "metadata": {},
   "outputs": [
    {
     "data": {},
     "metadata": {},
     "output_type": "display_data"
    },
    {
     "data": {
      "image/png": "[encoded data removed]",
      "text/plain": [
       "plot without title"
      ]
     },
     "metadata": {},
     "output_type": "display_data"
    }
   ],
   "source": [
    "############################# Heatmap using subset of keywords from the data #########################\n",
    "dataWithValidGeoLoc <- read.csv(\"data\\\\dataWithRegion_Better.csv\", stringsAsFactors = FALSE)\n",
    "dataWithValidGeoLoc<-dataWithValidGeoLoc[!(dataWithValidGeoLoc$region==\"state not found\"),]\n",
    "\n",
    "dataWithValidGeoLoc <- dataWithValidGeoLoc[!duplicated(dataWithValidGeoLoc[,c('text','name')]),]\n",
    "data_subset_keywords <- subset(dataWithValidGeoLoc, dataWithValidGeoLoc$query==\"\\\"fever\\\" AND \\\"headache\\\"\" |\n",
    "                                             dataWithValidGeoLoc$query==\"\\\"fever\\\" AND \\\"cough\\\"\" |\n",
    "                                             dataWithValidGeoLoc$query==\"\\\"influenza\\\" AND \\\"virus\\\"\" |\n",
    "                                             dataWithValidGeoLoc$query==\"\\\"sore throat\\\"\" |\n",
    "                                             dataWithValidGeoLoc$query==\"\\\"headache\\\" AND \\\"cough\\\"\" |\n",
    "                                             dataWithValidGeoLoc$query==\"\\\"influenza\\\"\" |\n",
    "                                             dataWithValidGeoLoc$query==\"\\\"coughing\\\"\" |\n",
    "                                             dataWithValidGeoLoc$query==\"\\\"flu\\\" AND \\\"epidemic\\\"\")\n",
    "\n",
    "locCountTable <- table(data_subset_keywords$region)\n",
    "locCountTable <- data.frame(locCountTable)\n",
    "colnames(locCountTable) <- c(\"region\", \"count\")\n",
    "stateids <- data.frame(\"region\"=state.name)\n",
    "stateids$region <- tolower(stateids$region)\n",
    "locCountTable <- merge(stateids,locCountTable, by=\"region\",all.x=T)\n",
    "locCountTable[is.na(locCountTable)] <- 0\n",
    "maxcnt <- max(locCountTable$count)\n",
    "mincnt <- min(locCountTable$count)\n",
    "rangebreak <- (maxcnt-mincnt)/10\n",
    "\n",
    "data(\"fifty_states\")\n",
    "fifty_states$region <- fifty_states$id\n",
    "mapPlusData <- merge(fifty_states,locCountTable, by=\"region\", all.heat=T)\n",
    "#mapPlusData <- merge(usa,locCountTable, by=\"region\", all.locCountTable=T)\n",
    "mapPlusData <- mapPlusData[order(mapPlusData$order),]\n",
    "\n",
    "subkeyheatmap <- ggplot(mapPlusData, aes(x=long,y=lat,group=group))+labs(title=\"                                    2019 Flu Data from Twitter (Subset of Keywords)\")+\n",
    "  geom_polygon(aes(fill=count))+\n",
    "  geom_path()+xlab(\"Longitude\")+ ylab(\"Latitude\")+\n",
    "  scale_fill_gradientn(colours=rev(c(\"red3\",\"red2\",\"firebrick1\",\"indianred1\",\"orange1\",\"orange2\",\"yellow1\",\"yellow2\",\"chartreuse\",\"chartreuse2\",\"chartreuse4\")),na.value=\"grey90\",name=\"Activity Level\",\n",
    "                       breaks=seq(1,maxcnt,by=rangebreak),\n",
    "                       labels=c(paste(\"Minimal (\",mincnt,\")\",sep=\"\"),\"Minimal\",\"Minimal\",\"Low\",\"Low\",\"Moderate\",\"Moderate\",\"High\",\"High\",paste(\"High (\",maxcnt,\")\",sep=\"\")))+ \n",
    "  theme_bw() + theme(plot.title = element_text(size=14, face=\"bold\"))+\n",
    "  theme(panel.border = element_blank(), panel.grid.major = element_blank(),\n",
    "        panel.grid.minor = element_blank(), axis.line = element_line(colour = \"black\"),  legend.text = element_text(size = 10) ) + theme_void()+\n",
    "  annotate(\"text\", label = \"Alaska\", x = -120, y = 32, size = 4, colour = \"Black\")+\n",
    "  annotate(\"text\", label = \"Hawaii\", x = -111, y = 30, size = 4, colour = \"Black\")+\n",
    "  coord_map()+ guides(fill = guide_legend(title =\"         Flu\\nActivity Count\")) +\n",
    "  theme(\n",
    "    legend.key.size = grid::unit(1,\"lines\"),\n",
    "    legend.title = element_text(size = 11, face = \"bold\"),\n",
    "    legend.text = element_text(size = 11)\n",
    "  )\n",
    "subkeyheatmap"
   ]
  },
  {
   "cell_type": "markdown",
   "metadata": {},
   "source": [
    "![alt text](heatmap_cdc.png \"CDC\")"
   ]
  },
  {
   "cell_type": "markdown",
   "metadata": {},
   "source": [
    "# CDC and Twitter Comparison using subset of keywords"
   ]
  },
  {
   "cell_type": "markdown",
   "metadata": {},
   "source": [
    "Plotted above is a heatmap created using a subset of all the identified keywords. This heat map is similar to the heatmap created using only two keywords."
   ]
  }
 ],
 "metadata": {
  "kernelspec": {
   "display_name": "R",
   "language": "R",
   "name": "ir"
  },
  "language_info": {
   "codemirror_mode": "r",
   "file_extension": ".r",
   "mimetype": "text/x-r-source",
   "name": "R",
   "pygments_lexer": "r",
   "version": "3.5.1"
  }
 },
 "nbformat": 4,
 "nbformat_minor": 2
}
